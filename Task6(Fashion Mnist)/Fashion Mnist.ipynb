{
 "cells": [
  {
   "cell_type": "code",
   "execution_count": 1,
   "metadata": {},
   "outputs": [
    {
     "data": {
      "text/html": [
       "\n",
       "<style>\n",
       "  h2 {\n",
       "    font-size: var(--jp-content-font-size4);\n",
       "    background-color: #FF0000 ;\n",
       "    color: yellow;\n",
       "    display: flex;\n",
       "    align-items: center;\n",
       "    justify-content: center;\n",
       "    padding: 10px 41px;\n",
       "    top: 10px;\n",
       "    position: relative;\n",
       "    border-radius: 10px 50px 10px 50px;\n",
       "}\n",
       "\n",
       "img {       /* flex-grow: 1; */\n",
       "            /* flex-shrink: 1; */\n",
       "            border-radius: 150px 70px 150px 70px;\n",
       "            border: 10px solid #eee;\n",
       "            display: flex;\n",
       "            align-items: center;\n",
       "            justify-content: center;\n",
       "            transition: box-shadow 0.3s ease; /* Add a transition for a smooth effect */\n",
       "        }\n",
       "\n",
       "       img:active {\n",
       "          box-shadow: 0 10px 20px rgba(255, 255, 0, 0.5), 0 6px 6px rgba(215, 215, 0, 0.5);\n",
       "        }\n",
       "</style>\n"
      ],
      "text/plain": [
       "<IPython.core.display.HTML object>"
      ]
     },
     "execution_count": 1,
     "metadata": {},
     "output_type": "execute_result"
    }
   ],
   "source": [
    "from IPython.core.display import HTML\n",
    "# Apply styles globally within the notebook\n",
    "HTML('''\n",
    "<style>\n",
    "  h2 {\n",
    "    font-size: var(--jp-content-font-size4);\n",
    "    background-color: #FF0000 ;\n",
    "    color: yellow;\n",
    "    display: flex;\n",
    "    align-items: center;\n",
    "    justify-content: center;\n",
    "    padding: 10px 41px;\n",
    "    top: 10px;\n",
    "    position: relative;\n",
    "    border-radius: 10px 50px 10px 50px;\n",
    "}\n",
    "\n",
    "img {       /* flex-grow: 1; */\n",
    "            /* flex-shrink: 1; */\n",
    "            border-radius: 150px 70px 150px 70px;\n",
    "            border: 10px solid #eee;\n",
    "            display: flex;\n",
    "            align-items: center;\n",
    "            justify-content: center;\n",
    "            transition: box-shadow 0.3s ease; /* Add a transition for a smooth effect */\n",
    "        }\n",
    "\n",
    "       img:active {\n",
    "          box-shadow: 0 10px 20px rgba(255, 255, 0, 0.5), 0 6px 6px rgba(215, 215, 0, 0.5);\n",
    "        }\n",
    "</style>\n",
    "''')"
   ]
  },
  {
   "cell_type": "markdown",
   "metadata": {
    "colab_type": "text",
    "id": "XNFVMtUhMt7l"
   },
   "source": [
    "## Fashion MNIST using Custom Training Loop\n"
   ]
  },
  {
   "cell_type": "markdown",
   "metadata": {
    "colab_type": "text",
    "id": "NenrAcsiM7Zl"
   },
   "source": [
    "## Imports"
   ]
  },
  {
   "cell_type": "code",
   "execution_count": 1,
   "metadata": {
    "colab": {},
    "colab_type": "code",
    "id": "JkMXve8XuN5X"
   },
   "outputs": [
    {
     "name": "stderr",
     "output_type": "stream",
     "text": [
      "2024-09-22 13:01:25.777266: I tensorflow/core/util/port.cc:110] oneDNN custom operations are on. You may see slightly different numerical results due to floating-point round-off errors from different computation orders. To turn them off, set the environment variable `TF_ENABLE_ONEDNN_OPTS=0`.\n",
      "2024-09-22 13:01:25.778649: I tensorflow/tsl/cuda/cudart_stub.cc:28] Could not find cuda drivers on your machine, GPU will not be used.\n",
      "2024-09-22 13:01:25.805713: I tensorflow/tsl/cuda/cudart_stub.cc:28] Could not find cuda drivers on your machine, GPU will not be used.\n",
      "2024-09-22 13:01:25.806391: I tensorflow/core/platform/cpu_feature_guard.cc:182] This TensorFlow binary is optimized to use available CPU instructions in performance-critical operations.\n",
      "To enable the following instructions: AVX2 AVX512F AVX512_VNNI FMA, in other operations, rebuild TensorFlow with the appropriate compiler flags.\n",
      "2024-09-22 13:01:26.345498: W tensorflow/compiler/tf2tensorrt/utils/py_utils.cc:38] TF-TRT Warning: Could not find TensorRT\n",
      "/home/abdalrahman/.local/lib/python3.8/site-packages/tqdm/auto.py:21: TqdmWarning: IProgress not found. Please update jupyter and ipywidgets. See https://ipywidgets.readthedocs.io/en/stable/user_install.html\n",
      "  from .autonotebook import tqdm as notebook_tqdm\n"
     ]
    }
   ],
   "source": [
    "import tensorflow as tf\n",
    "from tensorflow.keras.models import Model\n",
    "from tensorflow.keras.layers import Dense, Input\n",
    "\n",
    "import numpy as np\n",
    "import matplotlib.pyplot as plt\n",
    "import pandas as pd\n",
    "from sklearn.model_selection import train_test_split\n",
    "from sklearn.metrics import confusion_matrix\n",
    "import itertools\n",
    "from tqdm import tqdm\n",
    "import tensorflow_datasets as tfds\n",
    "import matplotlib.ticker as mticker"
   ]
  },
  {
   "cell_type": "code",
   "execution_count": 2,
   "metadata": {
    "colab": {},
    "colab_type": "code",
    "id": "K1qm4y2FmvWJ",
    "scrolled": true
   },
   "outputs": [
    {
     "name": "stderr",
     "output_type": "stream",
     "text": [
      "2024-09-22 13:01:27.639199: I tensorflow/compiler/xla/stream_executor/cuda/cuda_gpu_executor.cc:995] successful NUMA node read from SysFS had negative value (-1), but there must be at least one NUMA node, so returning NUMA node zero. See more at https://github.com/torvalds/linux/blob/v6.0/Documentation/ABI/testing/sysfs-bus-pci#L344-L355\n",
      "2024-09-22 13:01:27.639620: W tensorflow/core/common_runtime/gpu/gpu_device.cc:1960] Cannot dlopen some GPU libraries. Please make sure the missing libraries mentioned above are installed properly if you would like to use GPU. Follow the guide at https://www.tensorflow.org/install/gpu for how to download and setup the required libraries for your platform.\n",
      "Skipping registering GPU devices...\n"
     ]
    }
   ],
   "source": [
    "train_data, info = tfds.load(\"fashion_mnist\", split = \"train\", with_info = True)\n",
    "test_data = tfds.load(\"fashion_mnist\", split = \"test\")"
   ]
  },
  {
   "cell_type": "code",
   "execution_count": 3,
   "metadata": {
    "colab": {},
    "colab_type": "code",
    "id": "DbliOEMHNiug"
   },
   "outputs": [],
   "source": [
    "class_names = [\"T-shirt/top\", \"Trouser/pants\", \"Pullover shirt\", \"Dress\", \"Coat\", \"Sandal\", \"Shirt\", \"Sneaker\", \"Bag\", \"Ankle boot\"]"
   ]
  },
  {
   "cell_type": "markdown",
   "metadata": {},
   "source": [
    "<div style=\"border: 2px solid yellow; padding: 10px; background-color: #F5F5F5; color: black; border-radius: 30px 45px 30px 45px;\">\n",
    "\n",
    "<p>&bull;  you normalize the images by dividing them by 255.0 so as to make the pixels fall in the range (0, 1).  </p>\n",
    "\n",
    "<p>&bull; You also reshape the data so as to flatten the 28 x 28 pixel array into a flattened 784 pixel array. .    </p>\n",
    "\n",
    "</div>"
   ]
  },
  {
   "cell_type": "code",
   "execution_count": 4,
   "metadata": {
    "colab": {},
    "colab_type": "code",
    "id": "oxwzgw3BmkoD"
   },
   "outputs": [],
   "source": [
    "def format_image(data):        \n",
    "    image = data[\"image\"]\n",
    "    image = tf.reshape(image, [-1])\n",
    "    image = tf.cast(image, 'float32')\n",
    "    image = image / 255.0\n",
    "    return image, data[\"label\"]"
   ]
  },
  {
   "cell_type": "code",
   "execution_count": 5,
   "metadata": {
    "colab": {},
    "colab_type": "code",
    "id": "c26dmIL5nmNU"
   },
   "outputs": [],
   "source": [
    "train_data = train_data.map(format_image)\n",
    "test_data = test_data.map(format_image)"
   ]
  },
  {
   "cell_type": "markdown",
   "metadata": {},
   "source": [
    "<div style=\"border: 2px solid yellow; padding: 10px; background-color: #F5F5F5; color: black; border-radius: 30px 45px 30px 45px;\">\n",
    "\n",
    "<p>&bull;  Now you shuffle and batch your training and test datasets before feeding them to the model. </p>\n",
    "\n",
    "\n",
    "\n",
    "</div>"
   ]
  },
  {
   "cell_type": "code",
   "execution_count": 6,
   "metadata": {
    "colab": {},
    "colab_type": "code",
    "id": "h9qdsNPen5-F"
   },
   "outputs": [],
   "source": [
    "batch_size = 64\n",
    "train = train_data.shuffle(buffer_size=1024).batch(batch_size)\n",
    "\n",
    "test =  test_data.batch(batch_size=batch_size)"
   ]
  },
  {
   "cell_type": "code",
   "execution_count": 7,
   "metadata": {
    "colab": {},
    "colab_type": "code",
    "id": "HU3qcM9WBcMh"
   },
   "outputs": [],
   "source": [
    "def base_model():\n",
    "  inputs = tf.keras.Input(shape=(784,), name='digits')\n",
    "  x = tf.keras.layers.Dense(64, activation='relu', name='dense_1')(inputs)\n",
    "  x = tf.keras.layers.Dense(64, activation='relu', name='dense_2')(x)\n",
    "  outputs = tf.keras.layers.Dense(10, activation='softmax', name='predictions')(x)\n",
    "  model = tf.keras.Model(inputs=inputs, outputs=outputs)\n",
    "  return model"
   ]
  },
  {
   "cell_type": "markdown",
   "metadata": {
    "colab_type": "text",
    "id": "mxaHy1NYPGSb"
   },
   "source": [
    "## Define Optimizer and Loss Function\n",
    "\n"
   ]
  },
  {
   "cell_type": "markdown",
   "metadata": {},
   "source": [
    "<div style=\"border: 2px solid yellow; padding: 10px; background-color: #F5F5F5; color: black; border-radius: 30px 45px 30px 45px;\">\n",
    "\n",
    "<p>&bull;  Define Optimizer and Loss Function\n",
    "You have chosen adam optimizer and sparse categorical crossentropy loss for this example. </p>\n",
    "\n",
    "\n",
    "\n",
    "</div>"
   ]
  },
  {
   "cell_type": "code",
   "execution_count": 8,
   "metadata": {
    "colab": {},
    "colab_type": "code",
    "id": "v5B3vh6fs84i"
   },
   "outputs": [],
   "source": [
    "optimizer = tf.keras.optimizers.Adam()\n",
    "loss_object = tf.keras.losses.SparseCategoricalCrossentropy()"
   ]
  },
  {
   "cell_type": "markdown",
   "metadata": {
    "colab_type": "text",
    "id": "w1fJsdYIPTb8"
   },
   "source": [
    "## Define Metrics\n",
    "<div style=\"border: 2px solid yellow; padding: 10px; background-color: #F5F5F5; color: black; border-radius: 30px 45px 30px 45px;\">\n",
    "\n",
    "<p>&bull;  You will also define metrics so that your training loop can update and display them. Here you are using `SparseCategoricalAccuracy`defined in `tf.keras.metrics` since the problem at hand is a multi class classification problem. </p>\n",
    "\n",
    "\n",
    "\n",
    "</div>\n"
   ]
  },
  {
   "cell_type": "code",
   "execution_count": 9,
   "metadata": {
    "colab": {},
    "colab_type": "code",
    "id": "7Pa_x-5-CH_V"
   },
   "outputs": [],
   "source": [
    "train_acc_metric = tf.keras.metrics.SparseCategoricalAccuracy()\n",
    "val_acc_metric = tf.keras.metrics.SparseCategoricalAccuracy()"
   ]
  },
  {
   "cell_type": "markdown",
   "metadata": {
    "colab_type": "text",
    "id": "HVFI54MpQUDp"
   },
   "source": [
    "## Building Training Loop\n",
    "In this section you build your training loop consisting of training and validation sequences."
   ]
  },
  {
   "cell_type": "markdown",
   "metadata": {},
   "source": [
    "<div style=\"border: 2px solid yellow; padding: 10px; background-color: #F5F5F5; color: black; border-radius: 30px 45px 30px 45px;\">\n",
    "\n",
    "<p>&bull;  YThe core of training is using the model to calculate the logits on specific set of inputs and compute loss (in this case **sparse categorical crossentropy**) by comparing the predicted outputs to the true outputs. You then update the trainable weights using the optimizer algorithm chosen. Optimizer algorithm requires your computed loss and partial derivatives of loss with respect to each of the trainable weights to make updates to the same.\n",
    "\n",
    "You use gradient tape to calculate the gradients and then update the model trainable weights using the optimizer.</p>\n",
    "\n",
    "\n",
    "\n",
    "</div>\n"
   ]
  },
  {
   "cell_type": "code",
   "execution_count": 10,
   "metadata": {
    "colab": {},
    "colab_type": "code",
    "id": "MMPe25Dstn0v"
   },
   "outputs": [],
   "source": [
    "def apply_gradient(optimizer, model, x, y):\n",
    "  with tf.GradientTape() as tape:\n",
    "    logits = model(x)\n",
    "    loss_value = loss_object(y_true=y, y_pred=logits)\n",
    "  \n",
    "  gradients = tape.gradient(loss_value, model.trainable_weights)\n",
    "  optimizer.apply_gradients(zip(gradients, model.trainable_weights))\n",
    "  \n",
    "  return logits, loss_value"
   ]
  },
  {
   "cell_type": "code",
   "execution_count": 11,
   "metadata": {
    "colab": {},
    "colab_type": "code",
    "id": "3fHoh_hgz2PC"
   },
   "outputs": [],
   "source": [
    "def train_data_for_one_epoch():\n",
    "  losses = []\n",
    "  pbar = tqdm(total=len(list(enumerate(train))), position=0, leave=True, bar_format='{l_bar}{bar}| {n_fmt}/{total_fmt} ')\n",
    "  for step, (x_batch_train, y_batch_train) in enumerate(train):\n",
    "      logits, loss_value = apply_gradient(optimizer, model, x_batch_train, y_batch_train)\n",
    "      \n",
    "      losses.append(loss_value)\n",
    "      \n",
    "      train_acc_metric(y_batch_train, logits)\n",
    "      pbar.set_description(\"Training loss for step %s: %.4f\" % (int(step), float(loss_value)))\n",
    "      pbar.update()\n",
    "  return losses"
   ]
  },
  {
   "cell_type": "code",
   "execution_count": 12,
   "metadata": {
    "colab": {},
    "colab_type": "code",
    "id": "5gLJyAJE0YRc"
   },
   "outputs": [],
   "source": [
    "def perform_validation():\n",
    "  losses = []\n",
    "  for x_val, y_val in test:\n",
    "      val_logits = model(x_val)\n",
    "      val_loss = loss_object(y_true=y_val, y_pred=val_logits)\n",
    "      losses.append(val_loss)\n",
    "      val_acc_metric(y_val, val_logits)\n",
    "  return losses"
   ]
  },
  {
   "cell_type": "markdown",
   "metadata": {},
   "source": [
    "<div style=\"border: 2px solid yellow; padding: 10px; background-color: #F5F5F5; color: black; border-radius: 30px 45px 30px 45px;\">\n",
    "\n",
    "<p>&bull; Next you define the training loop that runs through the training samples repeatedly over a fixed number of epochs.</p> \n",
    "\n",
    "<p>Here you combine the functions you built earlier to establish the following flow:</p>\n",
    "\n",
    "<p>1. Perform training over all batches of training data.</p>\n",
    "<p>2. Get values of metrics.</p>\n",
    "<p>3. Perform validation to calculate loss and update validation metrics on test data.</p>\n",
    "<p>4. Reset the metrics at the end of epoch.</p>\n",
    "<p>5. Display statistics at the end of each epoch.</p>\n",
    "\n",
    "<p>**Note** : You also calculate the training and validation losses for the whole epoch at the end of the epoch. .</p>\n",
    "\n",
    "\n",
    "\n",
    "</div>\n"
   ]
  },
  {
   "cell_type": "code",
   "execution_count": 13,
   "metadata": {
    "colab": {},
    "colab_type": "code",
    "id": "OOO1x3VyuPUV"
   },
   "outputs": [
    {
     "name": "stdout",
     "output_type": "stream",
     "text": [
      "Start of epoch 0\n"
     ]
    },
    {
     "name": "stderr",
     "output_type": "stream",
     "text": [
      "Training loss for step 937: 0.3350: 100%|█████████████████████████████| 938/938 \n"
     ]
    },
    {
     "name": "stdout",
     "output_type": "stream",
     "text": [
      "\n",
      " Epoch 0: Train loss: 0.5413  Validation Loss: 0.5119, Train Accuracy: 0.8118, Validation Accuracy 0.8163\n",
      "Start of epoch 1\n"
     ]
    },
    {
     "name": "stderr",
     "output_type": "stream",
     "text": [
      "Training loss for step 937: 0.2707: 100%|█████████████████████████████| 938/938 \n"
     ]
    },
    {
     "name": "stdout",
     "output_type": "stream",
     "text": [
      "\n",
      " Epoch 1: Train loss: 0.3919  Validation Loss: 0.4394, Train Accuracy: 0.8599, Validation Accuracy 0.8464\n",
      "Start of epoch 2\n"
     ]
    },
    {
     "name": "stderr",
     "output_type": "stream",
     "text": [
      "Training loss for step 937: 0.1843: 100%|█████████████████████████████| 938/938 \n"
     ]
    },
    {
     "name": "stdout",
     "output_type": "stream",
     "text": [
      "\n",
      " Epoch 2: Train loss: 0.3498  Validation Loss: 0.3962, Train Accuracy: 0.8735, Validation Accuracy 0.8612\n",
      "Start of epoch 3\n"
     ]
    },
    {
     "name": "stderr",
     "output_type": "stream",
     "text": [
      "Training loss for step 937: 0.3134: 100%|█████████████████████████████| 938/938 \n"
     ]
    },
    {
     "name": "stdout",
     "output_type": "stream",
     "text": [
      "\n",
      " Epoch 3: Train loss: 0.3269  Validation Loss: 0.3634, Train Accuracy: 0.8816, Validation Accuracy 0.8697\n",
      "Start of epoch 4\n"
     ]
    },
    {
     "name": "stderr",
     "output_type": "stream",
     "text": [
      "Training loss for step 937: 0.3482: 100%|█████████████████████████████| 938/938 \n"
     ]
    },
    {
     "name": "stdout",
     "output_type": "stream",
     "text": [
      "\n",
      " Epoch 4: Train loss: 0.3112  Validation Loss: 0.3666, Train Accuracy: 0.8867, Validation Accuracy 0.8695\n",
      "Start of epoch 5\n"
     ]
    },
    {
     "name": "stderr",
     "output_type": "stream",
     "text": [
      "Training loss for step 937: 0.2218: 100%|█████████████████████████████| 938/938 \n"
     ]
    },
    {
     "name": "stdout",
     "output_type": "stream",
     "text": [
      "\n",
      " Epoch 5: Train loss: 0.2965  Validation Loss: 0.3629, Train Accuracy: 0.8909, Validation Accuracy 0.8731\n",
      "Start of epoch 6\n"
     ]
    },
    {
     "name": "stderr",
     "output_type": "stream",
     "text": [
      "Training loss for step 937: 0.2170: 100%|█████████████████████████████| 938/938 \n"
     ]
    },
    {
     "name": "stdout",
     "output_type": "stream",
     "text": [
      "\n",
      " Epoch 6: Train loss: 0.2834  Validation Loss: 0.3478, Train Accuracy: 0.8948, Validation Accuracy 0.8772\n",
      "Start of epoch 7\n"
     ]
    },
    {
     "name": "stderr",
     "output_type": "stream",
     "text": [
      "Training loss for step 937: 0.2392: 100%|█████████████████████████████| 938/938 \n"
     ]
    },
    {
     "name": "stdout",
     "output_type": "stream",
     "text": [
      "\n",
      " Epoch 7: Train loss: 0.2750  Validation Loss: 0.3410, Train Accuracy: 0.8979, Validation Accuracy 0.8799\n",
      "Start of epoch 8\n"
     ]
    },
    {
     "name": "stderr",
     "output_type": "stream",
     "text": [
      "Training loss for step 937: 0.2525: 100%|█████████████████████████████| 938/938 \n"
     ]
    },
    {
     "name": "stdout",
     "output_type": "stream",
     "text": [
      "\n",
      " Epoch 8: Train loss: 0.2625  Validation Loss: 0.3485, Train Accuracy: 0.9022, Validation Accuracy 0.8814\n",
      "Start of epoch 9\n"
     ]
    },
    {
     "name": "stderr",
     "output_type": "stream",
     "text": [
      "Training loss for step 937: 0.0906: 100%|█████████████████████████████| 938/938 \n"
     ]
    },
    {
     "name": "stdout",
     "output_type": "stream",
     "text": [
      "\n",
      " Epoch 9: Train loss: 0.2563  Validation Loss: 0.3757, Train Accuracy: 0.9033, Validation Accuracy 0.8709\n"
     ]
    }
   ],
   "source": [
    "\n",
    "model = base_model()\n",
    "\n",
    "# Iterate over epochs.\n",
    "epochs = 10\n",
    "epochs_val_losses, epochs_train_losses = [], []\n",
    "for epoch in range(epochs):\n",
    "  print('Start of epoch %d' % (epoch,))\n",
    "  \n",
    "  losses_train = train_data_for_one_epoch()\n",
    "  train_acc = train_acc_metric.result()\n",
    "\n",
    "  losses_val = perform_validation()\n",
    "  val_acc = val_acc_metric.result()\n",
    "\n",
    "  losses_train_mean = np.mean(losses_train)\n",
    "  losses_val_mean = np.mean(losses_val)\n",
    "  epochs_val_losses.append(losses_val_mean)\n",
    "  epochs_train_losses.append(losses_train_mean)\n",
    "\n",
    "  print('\\n Epoch %s: Train loss: %.4f  Validation Loss: %.4f, Train Accuracy: %.4f, Validation Accuracy %.4f' % (epoch, float(losses_train_mean), float(losses_val_mean), float(train_acc), float(val_acc)))\n",
    "  \n",
    "  train_acc_metric.reset_states()\n",
    "  val_acc_metric.reset_states()\n",
    "\n",
    "\n"
   ]
  },
  {
   "cell_type": "markdown",
   "metadata": {
    "colab_type": "text",
    "id": "ltKpkpzKK_Up"
   },
   "source": [
    "## Evaluate Model"
   ]
  },
  {
   "cell_type": "markdown",
   "metadata": {
    "colab_type": "text",
    "id": "tfGc-gMPLCDn"
   },
   "source": [
    "### Plots for Evaluation\n",
    "You plot the progress of loss as training proceeds over number of epochs."
   ]
  },
  {
   "cell_type": "code",
   "execution_count": 14,
   "metadata": {
    "colab": {},
    "colab_type": "code",
    "id": "NjzIlGipJwC_"
   },
   "outputs": [
    {
     "data": {
      "image/png": "[encoded data removed]",
      "text/plain": [
       "<Figure size 640x480 with 1 Axes>"
      ]
     },
     "metadata": {},
     "output_type": "display_data"
    }
   ],
   "source": [
    "def plot_metrics(train_metric, val_metric, metric_name, title, ylim=5):\n",
    "  plt.title(title)\n",
    "  plt.ylim(0,ylim)\n",
    "  plt.gca().xaxis.set_major_locator(mticker.MultipleLocator(1))\n",
    "  plt.plot(train_metric,color='blue',label=metric_name)\n",
    "  plt.plot(val_metric,color='green',label='val_' + metric_name)\n",
    "\n",
    "plot_metrics(epochs_train_losses, epochs_val_losses, \"Loss\", \"Loss\", ylim=1.0)"
   ]
  },
  {
   "cell_type": "markdown",
   "metadata": {
    "colab_type": "text",
    "id": "adpLKxFfZzTD"
   },
   "source": [
    "This function displays a row of images with their predictions and true labels."
   ]
  },
  {
   "cell_type": "code",
   "execution_count": 15,
   "metadata": {
    "colab": {},
    "colab_type": "code",
    "id": "_3PJnCRIO8bM"
   },
   "outputs": [],
   "source": [
    "# utility to display a row of images with their predictions and true labels\n",
    "def display_images(image, predictions, labels, title, n):\n",
    "\n",
    "  display_strings = [str(i) + \"\\n\\n\" + str(j) for i, j in zip(predictions, labels)] \n",
    "\n",
    "  plt.figure(figsize=(17,3))\n",
    "  plt.title(title)\n",
    "  plt.yticks([])\n",
    "  plt.xticks([28*x+14 for x in range(n)], display_strings)\n",
    "  plt.grid(None)\n",
    "  image = np.reshape(image, [n, 28, 28])\n",
    "  image = np.swapaxes(image, 0, 1)\n",
    "  image = np.reshape(image, [28, 28*n])\n",
    "  plt.imshow(image)"
   ]
  },
  {
   "cell_type": "markdown",
   "metadata": {
    "colab_type": "text",
    "id": "505DveJuaCNO"
   },
   "source": [
    "You make predictions on the test dataset and plot the images with their true and predicted values."
   ]
  },
  {
   "cell_type": "code",
   "execution_count": 16,
   "metadata": {
    "colab": {},
    "colab_type": "code",
    "id": "5ybveIIcPgVr"
   },
   "outputs": [
    {
     "data": {
      "image/png": "[encoded data removed]",
      "text/plain": [
       "<Figure size 1700x300 with 1 Axes>"
      ]
     },
     "metadata": {},
     "output_type": "display_data"
    }
   ],
   "source": [
    "test_inputs = test_data.batch(batch_size=1000001)\n",
    "x_batches, y_pred_batches, y_true_batches = [], [], []\n",
    "\n",
    "for x, y in test_inputs:\n",
    "  y_pred = model(x)\n",
    "  y_pred_batches = y_pred.numpy()\n",
    "  y_true_batches = y.numpy()\n",
    "  x_batches = x.numpy()\n",
    "\n",
    "indexes = np.random.choice(len(y_pred_batches), size=10)\n",
    "images_to_plot = x_batches[indexes]\n",
    "y_pred_to_plot = y_pred_batches[indexes]\n",
    "y_true_to_plot = y_true_batches[indexes]\n",
    "\n",
    "y_pred_labels = [class_names[np.argmax(sel_y_pred)] for sel_y_pred in y_pred_to_plot]\n",
    "y_true_labels = [class_names[sel_y_true] for sel_y_true in y_true_to_plot]\n",
    "display_images(images_to_plot, y_pred_labels, y_true_labels, \"Predicted and True Values\", 10)"
   ]
  }
 ],
 "metadata": {
  "colab": {
   "collapsed_sections": [],
   "include_colab_link": true,
   "name": "Training Categorical.ipynb",
   "private_outputs": true,
   "provenance": [],
   "toc_visible": true
  },
  "kernelspec": {
   "display_name": "Python 3 (ipykernel)",
   "language": "python",
   "name": "python3"
  },
  "language_info": {
   "codemirror_mode": {
    "name": "ipython",
    "version": 3
   },
   "file_extension": ".py",
   "mimetype": "text/x-python",
   "name": "python",
   "nbconvert_exporter": "python",
   "pygments_lexer": "ipython3",
   "version": "3.8.10"
  }
 },
 "nbformat": 4,
 "nbformat_minor": 4
}
